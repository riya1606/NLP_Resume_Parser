{
  "nbformat": 4,
  "nbformat_minor": 0,
  "metadata": {
    "colab": {
      "name": "NLP_Project.ipynb",
      "provenance": [],
      "collapsed_sections": [],
      "include_colab_link": true
    },
    "kernelspec": {
      "name": "python3",
      "display_name": "Python 3"
    },
    "language_info": {
      "name": "python"
    }
  },
  "cells": [
    {
      "cell_type": "markdown",
      "metadata": {
        "id": "view-in-github",
        "colab_type": "text"
      },
      "source": [
        "<a href=\"https://colab.research.google.com/github/riya1606/NLP_Resume_Parser/blob/main/NLP_Project.ipynb\" target=\"_parent\"><img src=\"https://colab.research.google.com/assets/colab-badge.svg\" alt=\"Open In Colab\"/></a>"
      ]
    },
    {
      "cell_type": "code",
      "execution_count": null,
      "metadata": {
        "colab": {
          "base_uri": "https://localhost:8080/"
        },
        "id": "aa55UtMRB-9y",
        "outputId": "7ee29893-8bca-4898-ea26-eaa9f927359e"
      },
      "outputs": [
        {
          "output_type": "stream",
          "name": "stdout",
          "text": [
            "Mounted at /content/grive\n"
          ]
        }
      ],
      "source": [
        "from google.colab import drive\n",
        "drive.mount('/content/grive')"
      ]
    },
    {
      "cell_type": "code",
      "source": [
        "import spacy\n",
        "import pickle\n",
        "import random\n",
        "import pandas as pd\n",
        "import numpy as np\n",
        "import pandas as pd\n",
        "import matplotlib.pyplot as plt\n",
        "import warnings\n",
        "import math\n",
        "import nltk\n",
        "from textblob import TextBlob as tb\n",
        "warnings.filterwarnings('ignore')\n",
        "from sklearn.naive_bayes import MultinomialNB\n",
        "from sklearn.multiclass import OneVsRestClassifier\n",
        "from sklearn import metrics\n",
        "from sklearn.metrics import accuracy_score\n",
        "from pandas.plotting import scatter_matrix\n",
        "from sklearn.neighbors import KNeighborsClassifier\n",
        "from sklearn import metrics"
      ],
      "metadata": {
        "id": "VCP-1ZbjEC8u"
      },
      "execution_count": null,
      "outputs": []
    },
    {
      "cell_type": "code",
      "source": [
        "data1 = pd.read_csv(\"/content/grive/MyDrive/nlp_review/UpdatedResumeDataSet.csv\")"
      ],
      "metadata": {
        "id": "3jRrNLO6V3HQ"
      },
      "execution_count": null,
      "outputs": []
    },
    {
      "cell_type": "code",
      "source": [
        "infile = open('/content/grive/MyDrive/nlp_review/train_data.pkl','rb')\n",
        "train_data = pickle.load(infile)"
      ],
      "metadata": {
        "id": "WRgQkQIj3eaC"
      },
      "execution_count": null,
      "outputs": []
    },
    {
      "cell_type": "code",
      "source": [
        "train_data[0]"
      ],
      "metadata": {
        "colab": {
          "base_uri": "https://localhost:8080/"
        },
        "id": "J4i7xYi84Ep-",
        "outputId": "b5e86097-0b0c-4c76-fab8-952e12396729"
      },
      "execution_count": null,
      "outputs": [
        {
          "output_type": "execute_result",
          "data": {
            "text/plain": [
              "('Govardhana K Senior Software Engineer  Bengaluru, Karnataka, Karnataka - Email me on Indeed: indeed.com/r/Govardhana-K/ b2de315d95905b68  Total IT experience 5 Years 6 Months Cloud Lending Solutions INC 4 Month • Salesforce Developer Oracle 5 Years 2 Month • Core Java Developer Languages Core Java, Go Lang Oracle PL-SQL programming, Sales Force Developer with APEX.  Designations & Promotions  Willing to relocate: Anywhere  WORK EXPERIENCE  Senior Software Engineer  Cloud Lending Solutions -  Bangalore, Karnataka -  January 2018 to Present  Present  Senior Consultant  Oracle -  Bangalore, Karnataka -  November 2016 to December 2017  Staff Consultant  Oracle -  Bangalore, Karnataka -  January 2014 to October 2016  Associate Consultant  Oracle -  Bangalore, Karnataka -  November 2012 to December 2013  EDUCATION  B.E in Computer Science Engineering  Adithya Institute of Technology -  Tamil Nadu  September 2008 to June 2012  https://www.indeed.com/r/Govardhana-K/b2de315d95905b68?isid=rex-download&ikw=download-top&co=IN https://www.indeed.com/r/Govardhana-K/b2de315d95905b68?isid=rex-download&ikw=download-top&co=IN   SKILLS  APEX. (Less than 1 year), Data Structures (3 years), FLEXCUBE (5 years), Oracle (5 years), Algorithms (3 years)  LINKS  https://www.linkedin.com/in/govardhana-k-61024944/  ADDITIONAL INFORMATION  Technical Proficiency:  Languages: Core Java, Go Lang, Data Structures & Algorithms, Oracle PL-SQL programming, Sales Force with APEX. Tools: RADTool, Jdeveloper, NetBeans, Eclipse, SQL developer, PL/SQL Developer, WinSCP, Putty Web Technologies: JavaScript, XML, HTML, Webservice  Operating Systems: Linux, Windows Version control system SVN & Git-Hub Databases: Oracle Middleware: Web logic, OC4J Product FLEXCUBE: Oracle FLEXCUBE Versions 10.x, 11.x and 12.x  https://www.linkedin.com/in/govardhana-k-61024944/',\n",
              " {'entities': [(1749, 1755, 'Companies worked at'),\n",
              "   (1696, 1702, 'Companies worked at'),\n",
              "   (1417, 1423, 'Companies worked at'),\n",
              "   (1356, 1793, 'Skills'),\n",
              "   (1209, 1215, 'Companies worked at'),\n",
              "   (1136, 1248, 'Skills'),\n",
              "   (928, 932, 'Graduation Year'),\n",
              "   (858, 889, 'College Name'),\n",
              "   (821, 856, 'Degree'),\n",
              "   (787, 791, 'Graduation Year'),\n",
              "   (744, 750, 'Companies worked at'),\n",
              "   (722, 742, 'Designation'),\n",
              "   (658, 664, 'Companies worked at'),\n",
              "   (640, 656, 'Designation'),\n",
              "   (574, 580, 'Companies worked at'),\n",
              "   (555, 573, 'Designation'),\n",
              "   (470, 493, 'Companies worked at'),\n",
              "   (444, 469, 'Designation'),\n",
              "   (308, 314, 'Companies worked at'),\n",
              "   (234, 240, 'Companies worked at'),\n",
              "   (175, 198, 'Companies worked at'),\n",
              "   (93, 137, 'Email Address'),\n",
              "   (39, 48, 'Location'),\n",
              "   (13, 38, 'Designation'),\n",
              "   (0, 12, 'Name')]})"
            ]
          },
          "metadata": {},
          "execution_count": 5
        }
      ]
    },
    {
      "cell_type": "code",
      "source": [
        "nlp=spacy.blank('en')\n",
        "\n",
        "def train_model(train_data):\n",
        "  if 'ner' not in nlp.pipe_names:\n",
        "    ner=nlp.create_pipe('ner')\n",
        "    nlp.add_pipe(ner,last=True)\n",
        "\n",
        "# We add labels in the NLP Pipelines\n",
        "  for _, annotation in train_data:\n",
        "    for ent in annotation['entities']:\n",
        "      ner.add_label(ent[2])\n",
        "\n",
        "# get names of other pipes to disable them during training\n",
        "  other_pipes = [pipe for pipe in nlp.pipe_names if pipe != 'ner']\n",
        "  with nlp.disable_pipes(*other_pipes):\n",
        "    optimizer = nlp.begin_training()\n",
        "    for itn in range(10):\n",
        "      print(\"Starting iteration \"+str(itn))\n",
        "      random.shuffle(train_data)\n",
        "      losses = {}\n",
        "      index=0\n",
        "      for text, annotations in train_data:\n",
        "        # print (index)\n",
        "        try:\n",
        "          nlp.update(\n",
        "              [text], #batch of texts\n",
        "              [annotations], # batch of annotations\n",
        "              drop=0.2, #dropout - make it harder to memorise \n",
        "              sgd=optimizer, #callable to update weights\n",
        "              losses=losses\n",
        "          )\n",
        "        except Exception as e:\n",
        "          pass\n",
        "            # print(text)\n",
        "        \n",
        "      print(losses)"
      ],
      "metadata": {
        "id": "_1OC5_qh4gJ6"
      },
      "execution_count": null,
      "outputs": []
    },
    {
      "cell_type": "code",
      "source": [
        "train_model(train_data)"
      ],
      "metadata": {
        "id": "De_W5WC4CXqT",
        "colab": {
          "base_uri": "https://localhost:8080/"
        },
        "outputId": "5c0c015b-2312-491a-f44f-40f3e66457ad"
      },
      "execution_count": null,
      "outputs": [
        {
          "output_type": "stream",
          "name": "stdout",
          "text": [
            "Starting iteration 0\n",
            "{'ner': 13813.01125541016}\n",
            "Starting iteration 1\n",
            "{'ner': 11910.162744606016}\n",
            "Starting iteration 2\n",
            "{'ner': 8594.71141842938}\n",
            "Starting iteration 3\n",
            "{'ner': 8002.400277436953}\n",
            "Starting iteration 4\n",
            "{'ner': 7047.36467162879}\n",
            "Starting iteration 5\n",
            "{'ner': 5446.7307136759955}\n",
            "Starting iteration 6\n",
            "{'ner': 5751.213936769567}\n",
            "Starting iteration 7\n",
            "{'ner': 5101.735891955726}\n",
            "Starting iteration 8\n",
            "{'ner': 4341.090841356377}\n",
            "Starting iteration 9\n",
            "{'ner': 4443.019430409696}\n"
          ]
        }
      ]
    },
    {
      "cell_type": "code",
      "source": [
        "nlp.to_disk('nlp_model')"
      ],
      "metadata": {
        "id": "h22qbKkSDBLM"
      },
      "execution_count": null,
      "outputs": []
    },
    {
      "cell_type": "code",
      "source": [
        "nlp_model = spacy.load('nlp_model')"
      ],
      "metadata": {
        "id": "tD0hsXDuE4FI"
      },
      "execution_count": null,
      "outputs": []
    },
    {
      "cell_type": "code",
      "source": [
        "train_data[1]"
      ],
      "metadata": {
        "id": "A6DmwS1lFCf0",
        "colab": {
          "base_uri": "https://localhost:8080/"
        },
        "outputId": "55615f37-073d-4f08-a47c-afc97ccf7ee0"
      },
      "execution_count": null,
      "outputs": [
        {
          "output_type": "execute_result",
          "data": {
            "text/plain": [
              "('Vinay Singhal New Delhi, Delhi - Email me on Indeed: indeed.com/r/Vinay-Singhal/c15261079a9b5ae7  To work in a challenging atmosphere that provides me an opportunity for learning and growth, where my professional skills combined with knowledge will make effective contribution to the growth of the company.  Willing to relocate: Anywhere  WORK EXPERIENCE  Customer Care Associate Microsoft  Convergys -  Gurgaon, Delhi NCR -  April 2018 to Present  I am handling US, UK and EU clients for the any issue faced by then related to Microsoft products.  ADDITIONAL INFORMATION  SKILLS ❖ Smart Working. ❖ Fast and keen learner. ❖ Works well within a team and also independently. ❖ Flexible and high adaptability to new approaches, people and environments. ❖ Professional approach and positive attitude. ❖ Hard working with abstract thinking. ❖ Good personal skills like photography & software issues. ❖ Good Communications Skills  https://www.indeed.com/r/Vinay-Singhal/c15261079a9b5ae7?isid=rex-download&ikw=download-top&co=IN',\n",
              " {'entities': [(937, 980, 'Email Address'),\n",
              "   (580, 923, 'Skills'),\n",
              "   (391, 400, 'Companies worked at'),\n",
              "   (356, 389, 'Designation'),\n",
              "   (53, 96, 'Email Address'),\n",
              "   (14, 23, 'Location'),\n",
              "   (0, 13, 'Name')]})"
            ]
          },
          "metadata": {},
          "execution_count": 10
        }
      ]
    },
    {
      "cell_type": "code",
      "source": [
        "doc = nlp_model(train_data[0][0])\n",
        "for ent in doc.ents:\n",
        "  print(f'{ent.label_.upper():{30}}-{ent.text}')\n",
        "  "
      ],
      "metadata": {
        "id": "fIEfcy_9FJ-L",
        "colab": {
          "base_uri": "https://localhost:8080/"
        },
        "outputId": "7a9d2eb0-d3ca-4049-f745-0e0383788c65"
      },
      "execution_count": null,
      "outputs": [
        {
          "output_type": "stream",
          "name": "stdout",
          "text": [
            "NAME                          -Fenil Francis\n",
            "LOCATION                      -Trichur,\n",
            "EMAIL ADDRESS                 -indeed.com/r/Fenil-Francis/445e6b4cb0b43094\n",
            "DESIGNATION                   -Manager\n",
            "DEGREE                        -B.Com in Computer Application\n",
            "COLLEGE NAME                  -Madurai Kamaraj University\n",
            "GRADUATION YEAR               -2017\n",
            "SKILLS                        -PROBLEM SOLVING (Less than 1 year)  ADDITIONAL INFORMATION  SKILLS &amp; ABILITIES: • Good Communication Skill • Sincere • Hard working • Leadership skill • Pleasing personality • Problem solving capability\n"
          ]
        }
      ]
    },
    {
      "cell_type": "code",
      "source": [
        "!pip install PyMuPDF\n"
      ],
      "metadata": {
        "id": "xuMMWGmZHRIb",
        "colab": {
          "base_uri": "https://localhost:8080/"
        },
        "outputId": "6d606633-5508-4834-cc83-fb187cd27a6c"
      },
      "execution_count": null,
      "outputs": [
        {
          "output_type": "stream",
          "name": "stdout",
          "text": [
            "Collecting PyMuPDF\n",
            "  Downloading PyMuPDF-1.19.6-cp37-cp37m-manylinux_2_17_x86_64.manylinux2014_x86_64.whl (8.8 MB)\n",
            "\u001b[K     |████████████████████████████████| 8.8 MB 22.9 MB/s \n",
            "\u001b[?25hInstalling collected packages: PyMuPDF\n",
            "Successfully installed PyMuPDF-1.19.6\n"
          ]
        }
      ]
    },
    {
      "cell_type": "code",
      "source": [
        "import sys, fitz\n",
        "fname = '/content/grive/MyDrive/nlp_review/Alice Clark CV.pdf'\n",
        "doc = fitz.open(fname)\n",
        "text = \"\"\n",
        "for page in doc:\n",
        "  text = text + str(page.getText())\n",
        "\n",
        "tx = \" \".join(text.split('\\n'))\n",
        "print(tx)\n"
      ],
      "metadata": {
        "id": "ANPopw9HINvD",
        "colab": {
          "base_uri": "https://localhost:8080/"
        },
        "outputId": "efa3ac24-7061-4c04-e578-68c6f8b8da25"
      },
      "execution_count": null,
      "outputs": [
        {
          "output_type": "stream",
          "name": "stdout",
          "text": [
            "Alice Clark  AI / Machine Learning    Delhi, India Email me on Indeed  •  20+ years of experience in data handling, design, and development  •  Data Warehouse: Data analysis, star/snow flake scema data modelling and design specific to  data warehousing and business intelligence  •  Database: Experience in database designing, scalability, back-up and recovery, writing and  optimizing SQL code and Stored Procedures, creating functions, views, triggers and indexes.  Cloud platform: Worked on Microsoft Azure cloud services like Document DB, SQL Azure,  Stream Analytics, Event hub, Power BI, Web Job, Web App, Power BI, Azure data lake  analytics(U-SQL)  Willing to relocate anywhere    WORK EXPERIENCE  Software Engineer  Microsoft – Bangalore, Karnataka  January 2000 to Present  1. Microsoft Rewards Live dashboards:  Description: - Microsoft rewards is loyalty program that rewards Users for browsing and shopping  online. Microsoft Rewards members can earn points when searching with Bing, browsing with  Microsoft Edge and making purchases at the Xbox Store, the Windows Store and the Microsoft  Store. Plus, user can pick up bonus points for taking daily quizzes and tours on the Microsoft  rewards website. Rewards live dashboards gives a live picture of usage world-wide and by  markets like US, Canada, Australia, new user registration count, top/bottom performing rewards  offers, orders stats and weekly trends of user activities, orders and new user registrations. the  PBI tiles gets refreshed in different frequencies starting from 5 seconds to 30 minutes.  Technology/Tools used    EDUCATION  Indian Institute of Technology – Mumbai  2001    SKILLS  Machine Learning, Natural Language Processing, and Big Data Handling    ADDITIONAL INFORMATION  Professional Skills  • Excellent analytical, problem solving, communication, knowledge transfer and interpersonal  skills with ability to interact with individuals at all the levels  • Quick learner and maintains cordial relationship with project manager and team members and  good performer both in team and independent job environments  • Positive attitude towards superiors &amp; peers  • Supervised junior developers throughout project lifecycle and provided technical assistance  \n"
          ]
        },
        {
          "output_type": "stream",
          "name": "stderr",
          "text": [
            "Deprecation: 'getText' removed from class 'Page' after v1.19 - use 'get_text'.\n"
          ]
        }
      ]
    },
    {
      "cell_type": "code",
      "source": [
        "doc = nlp_model(tx)\n",
        "for ent in doc.ents:\n",
        "  print(f'{ent.label_.upper():{30}}-{ent.text}')"
      ],
      "metadata": {
        "id": "g5u9O9v0I8rU",
        "colab": {
          "base_uri": "https://localhost:8080/"
        },
        "outputId": "a8382950-855a-4537-d1d3-6b10738a5a7b"
      },
      "execution_count": null,
      "outputs": [
        {
          "output_type": "stream",
          "name": "stdout",
          "text": [
            "NAME                          -Alice Clark\n",
            "LOCATION                      -Delhi\n",
            "COLLEGE NAME                  -Indian Institute of Technology – Mumbai\n",
            "SKILLS                        -Machine Learning, Natural Language Processing, and Big Data Handling    ADDITIONAL INFORMATION  Professional Skills  • Excellent analytical, problem solving, communication, knowledge transfer and interpersonal  skills with ability to interact with individuals at all the levels  • Quick learner and maintains cordial relationship with project manager and team members and  good performer both in team and independent job environments  • Positive attitude towards superiors &amp; peers  • Supervised junior developers throughout project lifecycle and provided technical assistance\n"
          ]
        }
      ]
    },
    {
      "cell_type": "code",
      "source": [
        "data1['cleaned_resume'] = ''\n",
        "data1.head()"
      ],
      "metadata": {
        "id": "GapphTF2YkkD",
        "colab": {
          "base_uri": "https://localhost:8080/",
          "height": 206
        },
        "outputId": "1a448fc1-66da-45ba-f305-680790ec5498"
      },
      "execution_count": null,
      "outputs": [
        {
          "output_type": "execute_result",
          "data": {
            "text/plain": [
              "       Category                                             Resume  \\\n",
              "0  Data Science  Skills * Programming Languages: Python (pandas...   \n",
              "1  Data Science  Education Details \\r\\nMay 2013 to May 2017 B.E...   \n",
              "2  Data Science  Areas of Interest Deep Learning, Control Syste...   \n",
              "3  Data Science  Skills â¢ R â¢ Python â¢ SAP HANA â¢ Table...   \n",
              "4  Data Science  Education Details \\r\\n MCA   YMCAUST,  Faridab...   \n",
              "\n",
              "  cleaned_resume  \n",
              "0                 \n",
              "1                 \n",
              "2                 \n",
              "3                 \n",
              "4                 "
            ],
            "text/html": [
              "\n",
              "  <div id=\"df-1433a256-bdad-4265-b3ae-c8a1038ea50a\">\n",
              "    <div class=\"colab-df-container\">\n",
              "      <div>\n",
              "<style scoped>\n",
              "    .dataframe tbody tr th:only-of-type {\n",
              "        vertical-align: middle;\n",
              "    }\n",
              "\n",
              "    .dataframe tbody tr th {\n",
              "        vertical-align: top;\n",
              "    }\n",
              "\n",
              "    .dataframe thead th {\n",
              "        text-align: right;\n",
              "    }\n",
              "</style>\n",
              "<table border=\"1\" class=\"dataframe\">\n",
              "  <thead>\n",
              "    <tr style=\"text-align: right;\">\n",
              "      <th></th>\n",
              "      <th>Category</th>\n",
              "      <th>Resume</th>\n",
              "      <th>cleaned_resume</th>\n",
              "    </tr>\n",
              "  </thead>\n",
              "  <tbody>\n",
              "    <tr>\n",
              "      <th>0</th>\n",
              "      <td>Data Science</td>\n",
              "      <td>Skills * Programming Languages: Python (pandas...</td>\n",
              "      <td></td>\n",
              "    </tr>\n",
              "    <tr>\n",
              "      <th>1</th>\n",
              "      <td>Data Science</td>\n",
              "      <td>Education Details \\r\\nMay 2013 to May 2017 B.E...</td>\n",
              "      <td></td>\n",
              "    </tr>\n",
              "    <tr>\n",
              "      <th>2</th>\n",
              "      <td>Data Science</td>\n",
              "      <td>Areas of Interest Deep Learning, Control Syste...</td>\n",
              "      <td></td>\n",
              "    </tr>\n",
              "    <tr>\n",
              "      <th>3</th>\n",
              "      <td>Data Science</td>\n",
              "      <td>Skills â¢ R â¢ Python â¢ SAP HANA â¢ Table...</td>\n",
              "      <td></td>\n",
              "    </tr>\n",
              "    <tr>\n",
              "      <th>4</th>\n",
              "      <td>Data Science</td>\n",
              "      <td>Education Details \\r\\n MCA   YMCAUST,  Faridab...</td>\n",
              "      <td></td>\n",
              "    </tr>\n",
              "  </tbody>\n",
              "</table>\n",
              "</div>\n",
              "      <button class=\"colab-df-convert\" onclick=\"convertToInteractive('df-1433a256-bdad-4265-b3ae-c8a1038ea50a')\"\n",
              "              title=\"Convert this dataframe to an interactive table.\"\n",
              "              style=\"display:none;\">\n",
              "        \n",
              "  <svg xmlns=\"http://www.w3.org/2000/svg\" height=\"24px\"viewBox=\"0 0 24 24\"\n",
              "       width=\"24px\">\n",
              "    <path d=\"M0 0h24v24H0V0z\" fill=\"none\"/>\n",
              "    <path d=\"M18.56 5.44l.94 2.06.94-2.06 2.06-.94-2.06-.94-.94-2.06-.94 2.06-2.06.94zm-11 1L8.5 8.5l.94-2.06 2.06-.94-2.06-.94L8.5 2.5l-.94 2.06-2.06.94zm10 10l.94 2.06.94-2.06 2.06-.94-2.06-.94-.94-2.06-.94 2.06-2.06.94z\"/><path d=\"M17.41 7.96l-1.37-1.37c-.4-.4-.92-.59-1.43-.59-.52 0-1.04.2-1.43.59L10.3 9.45l-7.72 7.72c-.78.78-.78 2.05 0 2.83L4 21.41c.39.39.9.59 1.41.59.51 0 1.02-.2 1.41-.59l7.78-7.78 2.81-2.81c.8-.78.8-2.07 0-2.86zM5.41 20L4 18.59l7.72-7.72 1.47 1.35L5.41 20z\"/>\n",
              "  </svg>\n",
              "      </button>\n",
              "      \n",
              "  <style>\n",
              "    .colab-df-container {\n",
              "      display:flex;\n",
              "      flex-wrap:wrap;\n",
              "      gap: 12px;\n",
              "    }\n",
              "\n",
              "    .colab-df-convert {\n",
              "      background-color: #E8F0FE;\n",
              "      border: none;\n",
              "      border-radius: 50%;\n",
              "      cursor: pointer;\n",
              "      display: none;\n",
              "      fill: #1967D2;\n",
              "      height: 32px;\n",
              "      padding: 0 0 0 0;\n",
              "      width: 32px;\n",
              "    }\n",
              "\n",
              "    .colab-df-convert:hover {\n",
              "      background-color: #E2EBFA;\n",
              "      box-shadow: 0px 1px 2px rgba(60, 64, 67, 0.3), 0px 1px 3px 1px rgba(60, 64, 67, 0.15);\n",
              "      fill: #174EA6;\n",
              "    }\n",
              "\n",
              "    [theme=dark] .colab-df-convert {\n",
              "      background-color: #3B4455;\n",
              "      fill: #D2E3FC;\n",
              "    }\n",
              "\n",
              "    [theme=dark] .colab-df-convert:hover {\n",
              "      background-color: #434B5C;\n",
              "      box-shadow: 0px 1px 3px 1px rgba(0, 0, 0, 0.15);\n",
              "      filter: drop-shadow(0px 1px 2px rgba(0, 0, 0, 0.3));\n",
              "      fill: #FFFFFF;\n",
              "    }\n",
              "  </style>\n",
              "\n",
              "      <script>\n",
              "        const buttonEl =\n",
              "          document.querySelector('#df-1433a256-bdad-4265-b3ae-c8a1038ea50a button.colab-df-convert');\n",
              "        buttonEl.style.display =\n",
              "          google.colab.kernel.accessAllowed ? 'block' : 'none';\n",
              "\n",
              "        async function convertToInteractive(key) {\n",
              "          const element = document.querySelector('#df-1433a256-bdad-4265-b3ae-c8a1038ea50a');\n",
              "          const dataTable =\n",
              "            await google.colab.kernel.invokeFunction('convertToInteractive',\n",
              "                                                     [key], {});\n",
              "          if (!dataTable) return;\n",
              "\n",
              "          const docLinkHtml = 'Like what you see? Visit the ' +\n",
              "            '<a target=\"_blank\" href=https://colab.research.google.com/notebooks/data_table.ipynb>data table notebook</a>'\n",
              "            + ' to learn more about interactive tables.';\n",
              "          element.innerHTML = '';\n",
              "          dataTable['output_type'] = 'display_data';\n",
              "          await google.colab.output.renderOutput(dataTable, element);\n",
              "          const docLink = document.createElement('div');\n",
              "          docLink.innerHTML = docLinkHtml;\n",
              "          element.appendChild(docLink);\n",
              "        }\n",
              "      </script>\n",
              "    </div>\n",
              "  </div>\n",
              "  "
            ]
          },
          "metadata": {},
          "execution_count": 15
        }
      ]
    },
    {
      "cell_type": "code",
      "source": [
        "print (\"Displaying the distinct categories of resume:\\n\\n \")\n",
        "print (data1['Category'].unique())"
      ],
      "metadata": {
        "colab": {
          "base_uri": "https://localhost:8080/"
        },
        "id": "8B_M_gzkckKb",
        "outputId": "824e462a-2ada-4ef8-8b7e-005ed58f3308"
      },
      "execution_count": null,
      "outputs": [
        {
          "output_type": "stream",
          "name": "stdout",
          "text": [
            "Displaying the distinct categories of resume:\n",
            "\n",
            " \n",
            "['Data Science' 'HR' 'Advocate' 'Arts' 'Web Designing'\n",
            " 'Mechanical Engineer' 'Sales' 'Health and fitness' 'Civil Engineer'\n",
            " 'Java Developer' 'Business Analyst' 'SAP Developer' 'Automation Testing'\n",
            " 'Electrical Engineering' 'Operations Manager' 'Python Developer'\n",
            " 'DevOps Engineer' 'Network Security Engineer' 'PMO' 'Database' 'Hadoop'\n",
            " 'ETL Developer' 'DotNet Developer' 'Blockchain' 'Testing']\n"
          ]
        }
      ]
    },
    {
      "cell_type": "code",
      "source": [
        "print (\"Displaying the distinct categories of resume and the number of records belonging to each category:\\n\\n\")\n",
        "print (data1['Category'].value_counts())"
      ],
      "metadata": {
        "colab": {
          "base_uri": "https://localhost:8080/"
        },
        "id": "quXwNUX0crc4",
        "outputId": "4c788e01-f9c7-4558-a27c-1a7494147509"
      },
      "execution_count": null,
      "outputs": [
        {
          "output_type": "stream",
          "name": "stdout",
          "text": [
            "Displaying the distinct categories of resume and the number of records belonging to each category:\n",
            "\n",
            "\n",
            "Java Developer               84\n",
            "Testing                      70\n",
            "DevOps Engineer              55\n",
            "Python Developer             48\n",
            "Web Designing                45\n",
            "HR                           44\n",
            "Hadoop                       42\n",
            "Blockchain                   40\n",
            "ETL Developer                40\n",
            "Operations Manager           40\n",
            "Data Science                 40\n",
            "Sales                        40\n",
            "Mechanical Engineer          40\n",
            "Arts                         36\n",
            "Database                     33\n",
            "Electrical Engineering       30\n",
            "Health and fitness           30\n",
            "PMO                          30\n",
            "Business Analyst             28\n",
            "DotNet Developer             28\n",
            "Automation Testing           26\n",
            "Network Security Engineer    25\n",
            "SAP Developer                24\n",
            "Civil Engineer               24\n",
            "Advocate                     20\n",
            "Name: Category, dtype: int64\n"
          ]
        }
      ]
    },
    {
      "cell_type": "code",
      "source": [
        "import seaborn as sns\n",
        "plt.figure(figsize=(20,5))\n",
        "plt.xticks(rotation=90)\n",
        "ax=sns.countplot(x=\"Category\", data=data1)\n",
        "for p in ax.patches:\n",
        "    ax.annotate(str(p.get_height()), (p.get_x() * 1.01 , p.get_height() * 1.01))\n",
        "plt.grid()"
      ],
      "metadata": {
        "colab": {
          "base_uri": "https://localhost:8080/",
          "height": 457
        },
        "id": "AH7-dXGQcwtK",
        "outputId": "2eeba252-4572-434f-824a-576bf027cc2f"
      },
      "execution_count": null,
      "outputs": [
        {
          "output_type": "display_data",
          "data": {
            "text/plain": [
              "<Figure size 1440x360 with 1 Axes>"
            ],
            "image/png": "[encoded data removed]"
          },
          "metadata": {
            "needs_background": "light"
          }
        }
      ]
    },
    {
      "cell_type": "code",
      "source": [
        "from matplotlib.gridspec import GridSpec\n",
        "targetCounts = data1['Category'].value_counts()\n",
        "targetLabels  = data1['Category'].unique()\n",
        "# Make square figures and axes\n",
        "plt.figure(1, figsize=(22,22))\n",
        "the_grid = GridSpec(2, 2)\n",
        "\n",
        "\n",
        "cmap = plt.get_cmap('coolwarm')\n",
        "plt.subplot(the_grid[0, 1], aspect=1, title='CATEGORY DISTRIBUTION')\n",
        "\n",
        "source_pie = plt.pie(targetCounts, labels=targetLabels, autopct='%1.1f%%', shadow=True)\n",
        "plt.show()"
      ],
      "metadata": {
        "colab": {
          "base_uri": "https://localhost:8080/",
          "height": 591
        },
        "id": "-mPSbEHNc2jm",
        "outputId": "de0e1307-e765-4007-a03c-15550f0ddbda"
      },
      "execution_count": null,
      "outputs": [
        {
          "output_type": "display_data",
          "data": {
            "text/plain": [
              "<Figure size 1584x1584 with 1 Axes>"
            ],
            "image/png": "[encoded data removed]"
          },
          "metadata": {}
        }
      ]
    },
    {
      "cell_type": "code",
      "source": [
        "doc1=tb(train_data[0][0])\n",
        "doc2=tb(train_data[1][0])\n",
        "doc3=tb(train_data[2][0])\n",
        "doc4=tb(train_data[3][0])\n",
        "doc5=tb(train_data[4][0])\n"
      ],
      "metadata": {
        "id": "m09QZ9qCdBWa"
      },
      "execution_count": null,
      "outputs": []
    },
    {
      "cell_type": "code",
      "source": [
        "train_data[0][0]"
      ],
      "metadata": {
        "colab": {
          "base_uri": "https://localhost:8080/",
          "height": 140
        },
        "id": "OPrj9OC6vLGr",
        "outputId": "e7417be2-6a60-4aaa-ed3d-e61ccab3abb6"
      },
      "execution_count": null,
      "outputs": [
        {
          "output_type": "execute_result",
          "data": {
            "text/plain": [
              "'Fenil Francis head of operation and logistics  Trichur, Kerala - Email me on Indeed: indeed.com/r/Fenil-Francis/445e6b4cb0b43094  To succeed in an environment of growth and excellence and earn a job which provides me job satisfaction and self development and help me achieve personal as well as organization goals.  WORK EXPERIENCE  Manager  Masters equipments -  Trichur, Kerala -  May 2017 to Present  Sales Manager  Microsoft Power -  Trichur, Kerala -  May 2017 to Present  2. Microsoft Office: Microsoft Word, Microsoft Power point, Microsoft Excel  EDUCATION  B.Com in Computer Application  Madurai Kamaraj University -  Madurai, Tamil Nadu  2017  SSLC  Kerala State Board  2012  SKILLS  PROBLEM SOLVING (Less than 1 year)  ADDITIONAL INFORMATION  SKILLS &amp; ABILITIES: • Good Communication Skill • Sincere • Hard working • Leadership skill • Pleasing personality • Problem solving capability  https://www.indeed.com/r/Fenil-Francis/445e6b4cb0b43094?isid=rex-download&ikw=download-top&co=IN'"
            ],
            "application/vnd.google.colaboratory.intrinsic+json": {
              "type": "string"
            }
          },
          "metadata": {},
          "execution_count": 21
        }
      ]
    },
    {
      "cell_type": "code",
      "source": [
        "import nltk\n",
        "nltk.download('punkt')\n"
      ],
      "metadata": {
        "colab": {
          "base_uri": "https://localhost:8080/"
        },
        "id": "BQeTwgIXu6H4",
        "outputId": "ed8a1324-5ef2-4cdb-a9e9-2d14ada1b835"
      },
      "execution_count": null,
      "outputs": [
        {
          "output_type": "stream",
          "name": "stdout",
          "text": [
            "[nltk_data] Downloading package punkt to /root/nltk_data...\n",
            "[nltk_data]   Unzipping tokenizers/punkt.zip.\n"
          ]
        },
        {
          "output_type": "execute_result",
          "data": {
            "text/plain": [
              "True"
            ]
          },
          "metadata": {},
          "execution_count": 22
        }
      ]
    },
    {
      "cell_type": "code",
      "source": [
        "def tf(word,blob):\n",
        "  return blob.words.count(word)/len(blob.words)\n",
        "  ## the number of documents containing the word\n",
        "\n",
        "def n_containing(word,bloblist):\n",
        "  return sum(1 for blob in bloblist if word in blob.words)\n",
        "\n",
        "def idf(word,bloblist):\n",
        "  return math.log(len(bloblist)/(1+n_containing(word,bloblist)))\n",
        "\n",
        "def tfidf(word,blob,bloblist):\n",
        "  return tf(word,blob)*idf(word,bloblist)"
      ],
      "metadata": {
        "id": "FDhZAQrkpVcP"
      },
      "execution_count": null,
      "outputs": []
    },
    {
      "cell_type": "code",
      "source": [
        "bloblist = [doc1,doc2,doc3,doc4,doc5]\n",
        "for i, blob in enumerate(bloblist):\n",
        "  print(\"Top resumes in the lot:\")\n",
        "  scores= {word: tfidf(word,blob,bloblist) for word in blob.words}\n",
        "  sorted_words= sorted(scores.items(), key=lambda x:x[1], reverse=True)\n",
        "  for word, score in sorted_words[:3]:\n",
        "    print(\"\\tWord: {},TF-IDF:{}\".format(word,round(score,5)))\n",
        "  print(\"\\n\")\n"
      ],
      "metadata": {
        "colab": {
          "base_uri": "https://localhost:8080/"
        },
        "id": "XHScIQo3o6K2",
        "outputId": "0c092c7b-b3ef-4153-83c0-723d11b8b0ed"
      },
      "execution_count": null,
      "outputs": [
        {
          "output_type": "stream",
          "name": "stdout",
          "text": [
            "Top resumes in the lot:\n",
            "\tWord: Trichur,TF-IDF:0.02131\n",
            "\tWord: Kerala,TF-IDF:0.01584\n",
            "\tWord: Manager,TF-IDF:0.01421\n",
            "\n",
            "\n",
            "Top resumes in the lot:\n",
            "\tWord: ❖,TF-IDF:0.05274\n",
            "\tWord: Skills,TF-IDF:0.02637\n",
            "\tWord: Delhi,TF-IDF:0.01978\n",
            "\n",
            "\n",
            "Top resumes in the lot:\n",
            "\tWord: marketing,TF-IDF:0.0098\n",
            "\tWord: Dubai,TF-IDF:0.0098\n",
            "\tWord: AE,TF-IDF:0.0098\n",
            "\n",
            "\n",
            "Top resumes in the lot:\n",
            "\tWord: The,TF-IDF:0.03272\n",
            "\tWord: ➢,TF-IDF:0.02454\n",
            "\tWord: is,TF-IDF:0.01473\n",
            "\n",
            "\n",
            "Top resumes in the lot:\n",
            "\tWord: TESTING,TF-IDF:0.03984\n",
            "\tWord: Testing,TF-IDF:0.02221\n",
            "\tWord: testing,TF-IDF:0.02221\n",
            "\n",
            "\n"
          ]
        }
      ]
    },
    {
      "cell_type": "code",
      "source": [
        "docc1 = train_data[0][0]\n",
        "docc2 = train_data[1][0]\n",
        "docc3 = train_data[2][0]\n",
        "docc1"
      ],
      "metadata": {
        "id": "aKCEANMEwZJq",
        "colab": {
          "base_uri": "https://localhost:8080/",
          "height": 140
        },
        "outputId": "7a528e1d-1652-4468-eb00-07cbbd28a457"
      },
      "execution_count": null,
      "outputs": [
        {
          "output_type": "execute_result",
          "data": {
            "text/plain": [
              "'Fenil Francis head of operation and logistics  Trichur, Kerala - Email me on Indeed: indeed.com/r/Fenil-Francis/445e6b4cb0b43094  To succeed in an environment of growth and excellence and earn a job which provides me job satisfaction and self development and help me achieve personal as well as organization goals.  WORK EXPERIENCE  Manager  Masters equipments -  Trichur, Kerala -  May 2017 to Present  Sales Manager  Microsoft Power -  Trichur, Kerala -  May 2017 to Present  2. Microsoft Office: Microsoft Word, Microsoft Power point, Microsoft Excel  EDUCATION  B.Com in Computer Application  Madurai Kamaraj University -  Madurai, Tamil Nadu  2017  SSLC  Kerala State Board  2012  SKILLS  PROBLEM SOLVING (Less than 1 year)  ADDITIONAL INFORMATION  SKILLS &amp; ABILITIES: • Good Communication Skill • Sincere • Hard working • Leadership skill • Pleasing personality • Problem solving capability  https://www.indeed.com/r/Fenil-Francis/445e6b4cb0b43094?isid=rex-download&ikw=download-top&co=IN'"
            ],
            "application/vnd.google.colaboratory.intrinsic+json": {
              "type": "string"
            }
          },
          "metadata": {},
          "execution_count": 25
        }
      ]
    },
    {
      "cell_type": "code",
      "source": [
        "from nltk.corpus import stopwords\n",
        "from nltk.tokenize import word_tokenize\n",
        "import nltk\n",
        "nltk.download('stopwords') \n",
        "\n",
        "X =\"Microsoft\"\n",
        "Y =docc1\n",
        "  \n",
        "# tokenization\n",
        "X_list = word_tokenize(X) \n",
        "Y_list = word_tokenize(Y)\n",
        "  \n",
        "# sw contains the list of stopwords\n",
        "sw = stopwords.words('english') \n",
        "l1 =[];l2 =[]\n",
        "  \n",
        "# remove stop words from the string\n",
        "X_set = {w for w in X_list if not w in sw} \n",
        "Y_set = {w for w in Y_list if not w in sw}\n",
        "  \n",
        "# form a set containing keywords of both strings \n",
        "rvector = X_set.union(Y_set) \n",
        "for w in rvector:\n",
        "    if w in X_set: l1.append(1) # create a vector\n",
        "    else: l1.append(0)\n",
        "    if w in Y_set: l2.append(1)\n",
        "    else: l2.append(0)\n",
        "c = 0\n",
        "  \n",
        "# cosine formula \n",
        "for i in range(len(rvector)):\n",
        "        c+= l1[i]*l2[i]\n",
        "cosine = c / float((sum(l1)*sum(l2))**0.5)\n",
        "print(\"similarity: \", cosine)\n"
      ],
      "metadata": {
        "colab": {
          "base_uri": "https://localhost:8080/"
        },
        "id": "IeEqPktIvcX9",
        "outputId": "7552ce23-ee02-4ce6-96ba-aba4b06fdd06"
      },
      "execution_count": null,
      "outputs": [
        {
          "output_type": "stream",
          "name": "stdout",
          "text": [
            "[nltk_data] Downloading package stopwords to /root/nltk_data...\n",
            "[nltk_data]   Unzipping corpora/stopwords.zip.\n",
            "similarity:  0.10314212462587934\n"
          ]
        }
      ]
    },
    {
      "cell_type": "code",
      "source": [
        "docc2"
      ],
      "metadata": {
        "colab": {
          "base_uri": "https://localhost:8080/",
          "height": 140
        },
        "id": "YfQ77EgG6eR8",
        "outputId": "ac6d63dd-4531-4823-f962-3e02ae2f153b"
      },
      "execution_count": null,
      "outputs": [
        {
          "output_type": "execute_result",
          "data": {
            "text/plain": [
              "'Vinay Singhal New Delhi, Delhi - Email me on Indeed: indeed.com/r/Vinay-Singhal/c15261079a9b5ae7  To work in a challenging atmosphere that provides me an opportunity for learning and growth, where my professional skills combined with knowledge will make effective contribution to the growth of the company.  Willing to relocate: Anywhere  WORK EXPERIENCE  Customer Care Associate Microsoft  Convergys -  Gurgaon, Delhi NCR -  April 2018 to Present  I am handling US, UK and EU clients for the any issue faced by then related to Microsoft products.  ADDITIONAL INFORMATION  SKILLS ❖ Smart Working. ❖ Fast and keen learner. ❖ Works well within a team and also independently. ❖ Flexible and high adaptability to new approaches, people and environments. ❖ Professional approach and positive attitude. ❖ Hard working with abstract thinking. ❖ Good personal skills like photography & software issues. ❖ Good Communications Skills  https://www.indeed.com/r/Vinay-Singhal/c15261079a9b5ae7?isid=rex-download&ikw=download-top&co=IN'"
            ],
            "application/vnd.google.colaboratory.intrinsic+json": {
              "type": "string"
            }
          },
          "metadata": {},
          "execution_count": 27
        }
      ]
    },
    {
      "cell_type": "code",
      "source": [
        "X =\"Customer Care\"\n",
        "Y =docc2\n",
        "  \n",
        "# tokenization\n",
        "X_list = word_tokenize(X) \n",
        "Y_list = word_tokenize(Y)\n",
        "  \n",
        "# sw contains the list of stopwords\n",
        "sw = stopwords.words('english') \n",
        "l1 =[];l2 =[]\n",
        "  \n",
        "# remove stop words from the string\n",
        "X_set = {w for w in X_list if not w in sw} \n",
        "Y_set = {w for w in Y_list if not w in sw}\n",
        "  \n",
        "# form a set containing keywords of both strings \n",
        "rvector = X_set.union(Y_set) \n",
        "for w in rvector:\n",
        "    if w in X_set: l1.append(1) # create a vector\n",
        "    else: l1.append(0)\n",
        "    if w in Y_set: l2.append(1)\n",
        "    else: l2.append(0)\n",
        "c = 0\n",
        "  \n",
        "# cosine formula \n",
        "for i in range(len(rvector)):\n",
        "        c+= l1[i]*l2[i]\n",
        "cosine = c / float((sum(l1)*sum(l2))**0.5)\n",
        "print(\"similarity: \", cosine)\n"
      ],
      "metadata": {
        "colab": {
          "base_uri": "https://localhost:8080/"
        },
        "id": "xXxefhoD4Mcb",
        "outputId": "43214347-f321-41c9-fbcb-dcc7a7b3fae8"
      },
      "execution_count": null,
      "outputs": [
        {
          "output_type": "stream",
          "name": "stdout",
          "text": [
            "similarity:  0.14359163172354764\n"
          ]
        }
      ]
    },
    {
      "cell_type": "code",
      "source": [
        "docc3"
      ],
      "metadata": {
        "colab": {
          "base_uri": "https://localhost:8080/",
          "height": 140
        },
        "id": "rk_Vk7Ay6xGH",
        "outputId": "0e888724-1409-4602-cec1-6e68a037bb31"
      },
      "execution_count": null,
      "outputs": [
        {
          "output_type": "execute_result",
          "data": {
            "text/plain": [
              "\"Jacob Philip Kottayam, Kerala - Email me on Indeed: indeed.com/r/Jacob-Philip/db00d831146c9228  StrategicSales, experienceinSales, skills.Currently, success.  WORK EXPERIENCE  Sales and marketing specialist  ASSISTANTBUSINESSDEVELOPMENTMANAGER -  Dubai, AE -  February 2017 to October 2017  UAE • -Builtstrong clientrelationshipsandprovidedhighvalue-addingservices, resultingina15% company marketshareincrease • Developstools, practicesacrosstheorganization • Negotiatingcontractsandpackages, Negotiatingthetermsofanagreementwithaviewto closingsale •, expense, andnew businessdata • WorkedcloselywithPartners, throughconductingqualityassurancetests.Actasthepointofcontactandcommunicate projectstatustoallparticipantsinourteam  ORDINATOR  MARKETINGCO -  January 2015 to June 2016  BhimaJewelers Kerala, India •, and systemreportforms • Plannedandexecutedeventsandmarketingprograms, producingfivetimestargetnumberof qualifiedleads • Implements marketing and advertising campaigns by assembling and analyzing sales forecastsandincreasedperformanceby52percent • Preparesmarketingreportsbycollecting, analyzing, andsummarizingsalesdata • Assignedtaskstoassociates, staffedprojects, trackedprogressandupdatedmanagers, and clients  Atlas star medical center  CUSTOMERSERVICEEXECUTIVE -  Dubai, AE -  https://www.indeed.com/r/Jacob-Philip/db00d831146c9228?isid=rex-download&ikw=download-top&co=IN   December 2012 to May 2014  UnitedArabEmirates • Maintainandorganizeacustomerdatabaseofover10, 000members • Evaluatedpatientcareneeds, prioritizedtreatment, andmaintainedpatientflow • Responsibleforprimarycare, casemanagement, andmedicationmanagement • Dealtwithinsurancecards, cashcollection, billing, ande-claims;inadditiontohandling incomingcallsorenquiriesfrompatients •, and systemreportforms  Sun infosys  SALESOFFICER -  July 2010 to July 2012  Sun-Infosystems Kerala, India increasedcompanyexposure, customertraffic, andsales materialsforsalespresentationsandclientmeetings • Inadditiontoinventoryrecordingandmaintainstocks, assignedtaskstoassociates, staffed projects, trackedprogressandupdatedmanagers, partnersandclientsasnecessary  EDUCATION  Bachelor's  SKILLS  Excel (Less than 1 year), Word (Less than 1 year)  LINKS  https://www.linkedin.com/in/jacob-philip-a52744138  ADDITIONAL INFORMATION  CORECOMPETENCIES: • Meetdead-lineswitheaseandefficiency • Pleasantandeffectivecustomerservice&amp;managementskills • FluentinEnglish, Hindi, Tamil, andMalayalamLanguages • StrongunderstandingofMicrosoftOffice (Excel, Word, andPowerpoint)  https://www.linkedin.com/in/jacob-philip-a52744138\""
            ],
            "application/vnd.google.colaboratory.intrinsic+json": {
              "type": "string"
            }
          },
          "metadata": {},
          "execution_count": 29
        }
      ]
    },
    {
      "cell_type": "code",
      "source": [
        "X =\"Sales\"\n",
        "Y =docc3\n",
        "  \n",
        "# tokenization\n",
        "X_list = word_tokenize(X) \n",
        "Y_list = word_tokenize(Y)\n",
        "  \n",
        "# sw contains the list of stopwords\n",
        "sw = stopwords.words('english') \n",
        "l1 =[];l2 =[]\n",
        "  \n",
        "# remove stop words from the string\n",
        "X_set = {w for w in X_list if not w in sw} \n",
        "Y_set = {w for w in Y_list if not w in sw}\n",
        "  \n",
        "# form a set containing keywords of both strings \n",
        "rvector = X_set.union(Y_set) \n",
        "for w in rvector:\n",
        "    if w in X_set: l1.append(1) # create a vector\n",
        "    else: l1.append(0)\n",
        "    if w in Y_set: l2.append(1)\n",
        "    else: l2.append(0)\n",
        "c = 0\n",
        "  \n",
        "# cosine formula \n",
        "for i in range(len(rvector)):\n",
        "        c+= l1[i]*l2[i]\n",
        "cosine = c / float((sum(l1)*sum(l2))**0.5)\n",
        "print(\"similarity: \", cosine)\n"
      ],
      "metadata": {
        "colab": {
          "base_uri": "https://localhost:8080/"
        },
        "id": "HlH-Phqz6zfM",
        "outputId": "7c7efe2e-a0fe-4943-aec2-3f91f5c94fbc"
      },
      "execution_count": null,
      "outputs": [
        {
          "output_type": "stream",
          "name": "stdout",
          "text": [
            "similarity:  0.08362420100070908\n"
          ]
        }
      ]
    }
  ]
}